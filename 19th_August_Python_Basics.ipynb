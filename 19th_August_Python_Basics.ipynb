{
 "cells": [
  {
   "cell_type": "markdown",
   "id": "60516afc-e7da-45d3-aa76-44f554089e08",
   "metadata": {},
   "source": [
    "Python basics variable- Question 1"
   ]
  },
  {
   "cell_type": "code",
   "execution_count": 6,
   "id": "d8f61598-615e-4062-83bf-55deab7113be",
   "metadata": {},
   "outputs": [
    {
     "data": {
      "text/plain": [
       "(89, 67)"
      ]
     },
     "execution_count": 6,
     "metadata": {},
     "output_type": "execute_result"
    }
   ],
   "source": [
    "x = 67\n",
    "y = 89\n",
    "(x,y) = (y,x) \n",
    "\n",
    "(x,y)"
   ]
  },
  {
   "cell_type": "markdown",
   "id": "884721e9-6b7d-43f7-9816-a0f8b67fe1fa",
   "metadata": {},
   "source": [
    "Python basics variable - Question 2"
   ]
  },
  {
   "cell_type": "code",
   "execution_count": 7,
   "id": "d99010f3-5c67-47c2-9b9a-48ac13778f80",
   "metadata": {},
   "outputs": [
    {
     "name": "stdin",
     "output_type": "stream",
     "text": [
      "legth of rectangle :  40\n",
      "width of rectangle :  35\n"
     ]
    },
    {
     "data": {
      "text/plain": [
       "1400"
      ]
     },
     "execution_count": 7,
     "metadata": {},
     "output_type": "execute_result"
    }
   ],
   "source": [
    "l = int(input(\"legth of rectangle : \"))\n",
    "w = int(input(\"width of rectangle : \"))\n",
    "area = l*w\n",
    "\n",
    "area"
   ]
  },
  {
   "cell_type": "markdown",
   "id": "00dd5f86-f465-4ae1-b3d8-1c33b06e649b",
   "metadata": {},
   "source": [
    "Python basics variable - Question 3"
   ]
  },
  {
   "cell_type": "code",
   "execution_count": 10,
   "id": "e5db8ff2-8540-46fe-8f74-5f0ba8967480",
   "metadata": {},
   "outputs": [
    {
     "name": "stdin",
     "output_type": "stream",
     "text": [
      "enter celsius :  37\n"
     ]
    },
    {
     "data": {
      "text/plain": [
       "98.60000000000001"
      ]
     },
     "execution_count": 10,
     "metadata": {},
     "output_type": "execute_result"
    }
   ],
   "source": [
    "c = int(input(\"enter celsius : \"))\n",
    "f = (c*1.8)+32\n",
    "\n",
    "f"
   ]
  },
  {
   "cell_type": "markdown",
   "id": "c0879b8f-6f01-4e3a-a6a3-5887218377a3",
   "metadata": {},
   "source": [
    "String based - Question 1"
   ]
  },
  {
   "cell_type": "code",
   "execution_count": 12,
   "id": "91b9d6c6-647c-40c1-ae22-3c705a4aff02",
   "metadata": {},
   "outputs": [
    {
     "name": "stdin",
     "output_type": "stream",
     "text": [
      " ankita kumari\n"
     ]
    },
    {
     "data": {
      "text/plain": [
       "13"
      ]
     },
     "execution_count": 12,
     "metadata": {},
     "output_type": "execute_result"
    }
   ],
   "source": [
    "s = input()\n",
    "l = len(s)\n",
    "\n",
    "l"
   ]
  },
  {
   "cell_type": "markdown",
   "id": "4f415c3d-14e1-43aa-86ab-cce6817028c5",
   "metadata": {},
   "source": [
    "String based - Question 2"
   ]
  },
  {
   "cell_type": "code",
   "execution_count": 13,
   "id": "7e6ed537-34de-4a0e-b8a2-156227d4190b",
   "metadata": {},
   "outputs": [
    {
     "name": "stdin",
     "output_type": "stream",
     "text": [
      "enter the matter:   aeiou aeiou aeiou qwtrgh nbmcrs a aeiou aeiou aeiou qwtrgh nbmcrs a\n"
     ]
    },
    {
     "data": {
      "text/plain": [
       "32"
      ]
     },
     "execution_count": 13,
     "metadata": {},
     "output_type": "execute_result"
    }
   ],
   "source": [
    "s1 = input(\"enter the matter: \")\n",
    "V = s1.count('a')+s1.count('e')+s1.count('i')+s1.count('o')+s1.count('u')\n",
    "\n",
    "V"
   ]
  },
  {
   "cell_type": "markdown",
   "id": "089372d7-dda2-4f81-82f3-78a0979b9fc6",
   "metadata": {},
   "source": [
    "String based - Question 3"
   ]
  },
  {
   "cell_type": "code",
   "execution_count": 14,
   "id": "191b4904-f4e2-4745-b3ea-8526485a109f",
   "metadata": {},
   "outputs": [
    {
     "data": {
      "text/plain": [
       "'neevarp tihom si eman ym'"
      ]
     },
     "execution_count": 14,
     "metadata": {},
     "output_type": "execute_result"
    }
   ],
   "source": [
    "s = \"my name is mohit praveen\"\n",
    "s1= s[::-1]\n",
    "\n",
    "s1"
   ]
  },
  {
   "cell_type": "markdown",
   "id": "4aca350a-318f-4879-ade8-4902cbd26619",
   "metadata": {},
   "source": [
    "String based - Question 4"
   ]
  },
  {
   "cell_type": "code",
   "execution_count": 15,
   "id": "1de519da-8264-45c5-83f0-ecf7d40e4230",
   "metadata": {},
   "outputs": [
    {
     "name": "stdin",
     "output_type": "stream",
     "text": [
      "enter your word :  nitin\n"
     ]
    },
    {
     "data": {
      "text/plain": [
       "True"
      ]
     },
     "execution_count": 15,
     "metadata": {},
     "output_type": "execute_result"
    }
   ],
   "source": [
    "k = input(\"enter your word : \")\n",
    "c = k==k[::-1]\n",
    "\n",
    "c"
   ]
  },
  {
   "cell_type": "markdown",
   "id": "287e485c-743d-4e04-a095-38acc6a5a272",
   "metadata": {},
   "source": [
    "String based - Question 5"
   ]
  },
  {
   "cell_type": "code",
   "execution_count": 16,
   "id": "11dc1fcc-2334-43c5-9867-db2fd76a804b",
   "metadata": {},
   "outputs": [
    {
     "name": "stdin",
     "output_type": "stream",
     "text": [
      "enter your sentence :  i have three gulab jamuns\n"
     ]
    },
    {
     "data": {
      "text/plain": [
       "'ihavethreegulabjamuns'"
      ]
     },
     "execution_count": 16,
     "metadata": {},
     "output_type": "execute_result"
    }
   ],
   "source": [
    "y = input ('enter your sentence : ')\n",
    "z = y.replace(\" \",\"\")\n",
    "\n",
    "z"
   ]
  },
  {
   "cell_type": "code",
   "execution_count": null,
   "id": "97710771-8ec8-44ab-be5f-ef839ee36633",
   "metadata": {},
   "outputs": [],
   "source": []
  }
 ],
 "metadata": {
  "kernelspec": {
   "display_name": "Python 3 (ipykernel)",
   "language": "python",
   "name": "python3"
  },
  "language_info": {
   "codemirror_mode": {
    "name": "ipython",
    "version": 3
   },
   "file_extension": ".py",
   "mimetype": "text/x-python",
   "name": "python",
   "nbconvert_exporter": "python",
   "pygments_lexer": "ipython3",
   "version": "3.10.8"
  }
 },
 "nbformat": 4,
 "nbformat_minor": 5
}
